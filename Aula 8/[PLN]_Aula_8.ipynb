{
  "nbformat": 4,
  "nbformat_minor": 0,
  "metadata": {
    "colab": {
      "provenance": []
    },
    "kernelspec": {
      "name": "python3",
      "display_name": "Python 3"
    },
    "language_info": {
      "name": "python"
    }
  },
  "cells": [
    {
      "cell_type": "markdown",
      "source": [
        "# **Aula 08 - Introdução a Machine Learning para PLN**\n",
        "\n",
        "**Aluna:** Giovanna da Rocha Machado | **RA:** 1131392213024\n",
        "\n",
        "Nesta aula, exploramos conceitos básicos de Machine Learning aplicado ao Processamento de Linguagem Natural (PLN).\n",
        "Abordaremos classificação de sentimentos com vetorização de texto com TF-IDF, modelos de aprendizado supervisionado.\n",
        "\n",
        "A aula inclui dois exemplos práticos:\n",
        "\n",
        "- Um estudo com um corpus simples de frases em português para treinar e avaliar um modelo SVM.\n",
        "- Um exemplo mais avançado com o dataset com análises de filmes do NLTK, onde compararemos o desempenho dos modelos Naive Bayes e SVM em uma tarefa de classificação binária."
      ],
      "metadata": {
        "id": "2G3chbMQgCNZ"
      }
    },
    {
      "cell_type": "markdown",
      "source": [
        "## **Exemplo 1**: Classificação de Sentimentos com SVM e TF-IDF"
      ],
      "metadata": {
        "id": "6W3kr-ungtzY"
      }
    },
    {
      "cell_type": "code",
      "source": [
        "# Passo 1: Importação das bibliotecas necessárias\n",
        "from sklearn.feature_extraction.text import TfidfVectorizer  # Para representar texto com TF-IDF\n",
        "from sklearn.svm import SVC  # Para o modelo de máquina de vetores de suporte (SVM)\n",
        "from sklearn.model_selection import train_test_split  # Para dividir os dados em treino e teste\n",
        "from sklearn.metrics import classification_report  # Para avaliar a performance do modelo\n",
        "\n",
        "# Passo 2: Definição do corpus e classes\n",
        "corpus = [\n",
        "    \"Eu amo PLN\",\n",
        "    \"Eu odeio bugs\",\n",
        "    \"Eu amo resolver problemas\",\n",
        "    \"Odeio erros\",\n",
        "    \"Amo programação\",\n",
        "    \"Não gosto de falhas\"\n",
        "]\n",
        "classes = [\"positivo\", \"negativo\", \"positivo\", \"negativo\", \"positivo\", \"negativo\"] # Cada texto no corpus possui uma classe associada\n",
        "\n",
        "# Passo 3: Pré-processamento e vetorização com TF-IDF\n",
        "vectorizer = TfidfVectorizer()  # Instancia o vetor TF-IDF\n",
        "X = vectorizer.fit_transform(corpus)  # Ajusta e transforma o corpus em uma matriz numérica\n",
        "y = classes  # As classes alvo\n",
        "\n",
        "# Passo 4: Divisão dos dados em treino e teste\n",
        "X_train, X_test, y_train, y_test = train_test_split(X, y, test_size=0.3, random_state=42)\n",
        "# test_size=0.3 significa que 30% dos dados serão usados para teste\n",
        "# random_state=42 garante reprodutibilidade\n",
        "\n",
        "# Treinamento do modelo SVM\n",
        "svm_model = SVC(kernel='linear')  # Cria um modelo SVM com kernel linear\n",
        "svm_model.fit(X_train, y_train)  # Treinar o modelo com os dados de treino\n",
        "\n",
        "# Passo 5: Avaliação do modelo\n",
        "y_pred = svm_model.predict(X_test)  # Faz predições no conjunto de teste\n",
        "print(classification_report(y_test, y_pred))  # Exibe métricas de desempenho\n"
      ],
      "metadata": {
        "id": "TgUMqT8_gZKp",
        "colab": {
          "base_uri": "https://localhost:8080/"
        },
        "outputId": "0c427b52-efbc-4664-c7ef-0109568f6120"
      },
      "execution_count": 1,
      "outputs": [
        {
          "output_type": "stream",
          "name": "stdout",
          "text": [
            "              precision    recall  f1-score   support\n",
            "\n",
            "    negativo       1.00      1.00      1.00         1\n",
            "    positivo       1.00      1.00      1.00         1\n",
            "\n",
            "    accuracy                           1.00         2\n",
            "   macro avg       1.00      1.00      1.00         2\n",
            "weighted avg       1.00      1.00      1.00         2\n",
            "\n"
          ]
        }
      ]
    },
    {
      "cell_type": "markdown",
      "source": [
        "## **Exemplo 2**: Classificação de Sentimentos em Inglês com TF-IDF, Naive Bayes e SVM"
      ],
      "metadata": {
        "id": "RTo_ods0iCC_"
      }
    },
    {
      "cell_type": "code",
      "source": [
        "# 1. Importação das bibliotecas necessárias\n",
        "import nltk  # Biblioteca para processamento de linguagem natural\n",
        "from sklearn.feature_extraction.text import TfidfVectorizer  # Vetorização com TF-IDF\n",
        "from sklearn.model_selection import train_test_split  # Divisão dos dados em conjuntos de treino e teste\n",
        "from sklearn.naive_bayes import MultinomialNB  # Modelo de classificação baseado no Naive Bayes\n",
        "from sklearn.svm import SVC  # SVM\n",
        "from sklearn.metrics import classification_report  # Métricas de avaliação como precisão, recall e F1-score\n",
        "from sklearn.preprocessing import LabelEncoder  # Codificação de labels em valores numéricos\n",
        "\n",
        "# Baixar o dataset de exemplo\n",
        "nltk.download('movie_reviews')  # Baixa o corpus de análises de filmes\n",
        "from nltk.corpus import movie_reviews  # Importando corpus pós download\n",
        "\n",
        "# 2. Preparação dos dados\n",
        "# Coleta os textos e suas classes (positiva / negativa)\n",
        "documents = [\n",
        "    (\" \".join(movie_reviews.words(fileid)), category)  # Junta palavras de cada análise em uma string\n",
        "    for category in movie_reviews.categories()  # Itera sobre categorias 'pos' e 'neg'\n",
        "    for fileid in movie_reviews.fileids(category)  # Itera nos IDs de arquivo para cada categoria\n",
        "]\n",
        "# O corpus resulta em uma lista de tuplas (texto, classe)\n",
        "\n",
        "# Separar textos e rótulos em variáveis separadas\n",
        "texts, labels = zip(*documents)  # 'texts' contém análises, 'labels' contém classes\n",
        "\n",
        "# Transformar rótulos em valores numéricos (0 = 'neg', 1 = 'pos')\n",
        "label_encoder = LabelEncoder()  # Codificador de rótulos\n",
        "labels = label_encoder.fit_transform(labels)  # Converte classes string para números\n",
        "\n",
        "# Divide os dados em conjuntos de treino e teste\n",
        "texts_train, texts_test, labels_train, labels_test = train_test_split(\n",
        "    texts,  # Textos\n",
        "    labels,  # Classes\n",
        "    test_size=0.3,  # 30% dos dados para o conjunto de teste\n",
        "    random_state=42  # Semente aleatória\n",
        ")\n",
        "\n",
        "# 3. Representação do texto com TF-IDF\n",
        "vectorizer = TfidfVectorizer(max_features=5000)  # max_features: Limita o vocabulário às x palavras mais frequentes\n",
        "X_train = vectorizer.fit_transform(texts_train)  # Ajusta o vetorizador TF-IDF aos textos de treino e transforma em vetores numéricos\n",
        "X_test = vectorizer.transform(texts_test)  # Transforma os textos teste em vetores numéricos usando o modelo ajustado no treino\n",
        "\n",
        "# 4. Treinamento dos modelos\n",
        "\n",
        "# Treinamento do Naive Bayes\n",
        "nb_model = MultinomialNB()  # Modelo Naive Bayes Multinomial, adequado para dados de contagem (como TF-IDF)\n",
        "nb_model.fit(X_train, labels_train)  # Treina o modelo com os vetores TF-IDF de treino e rótulos\n",
        "\n",
        "# Predição com Naive Bayes\n",
        "nb_predictions = nb_model.predict(X_test)  # Usa o modelo treinado para prever classes dos textos de teste\n",
        "\n",
        "# Treinamento do SVM\n",
        "svm_model = SVC(kernel='linear')\n",
        " # SVC: Modelo de Máquina de Vetores de Suporte\n",
        "# kernel='linear': Utiliza kernel linear para encontrar hiperplanos que separam as classes\n",
        "\n",
        "svm_model.fit(X_train, labels_train)  # Treina o modelo SVM com os vetores TF-IDF de treino e rótulos\n",
        "\n",
        "# Predição com SVM\n",
        "svm_predictions = svm_model.predict(X_test)  # Usa o modelo treinado para prever as classes dos textos de teste\n",
        "\n",
        "# 5. Avaliação dos modelos\n",
        "\n",
        "# Avaliação do Naive Bayes\n",
        "print(\"Desempenho do Naive Bayes:\")\n",
        "print(classification_report(labels_test, nb_predictions, target_names=label_encoder.classes_))\n",
        "# classification_report: Métricas como precisão, recall, F1-score...\n",
        "# labels_test: Rótulos reais\n",
        "# nb_predictions: Rótulos previstos pelo modelo Naive Bayes\n",
        "# target_names: Nomes originais classes ('neg', 'pos')\n",
        "\n",
        "# Avaliação do SVM\n",
        "print(\"Desempenho do SVM:\")\n",
        "print(classification_report(labels_test, svm_predictions, target_names=label_encoder.classes_))\n",
        "# labels_test: Rótulos reais\n",
        "# svm_predictions: Rótulos previstos pelo modelo SVM\n",
        "# target_names: Nomes originais classes ('neg', 'pos')\n"
      ],
      "metadata": {
        "id": "8JqLyQuTiIh3",
        "colab": {
          "base_uri": "https://localhost:8080/"
        },
        "outputId": "f1270e1a-3202-44db-e947-ddd11cbfcd32"
      },
      "execution_count": 2,
      "outputs": [
        {
          "output_type": "stream",
          "name": "stderr",
          "text": [
            "[nltk_data] Downloading package movie_reviews to /root/nltk_data...\n",
            "[nltk_data]   Unzipping corpora/movie_reviews.zip.\n"
          ]
        },
        {
          "output_type": "stream",
          "name": "stdout",
          "text": [
            "Desempenho do Naive Bayes:\n",
            "              precision    recall  f1-score   support\n",
            "\n",
            "         neg       0.79      0.84      0.81       302\n",
            "         pos       0.82      0.77      0.80       298\n",
            "\n",
            "    accuracy                           0.80       600\n",
            "   macro avg       0.80      0.80      0.80       600\n",
            "weighted avg       0.80      0.80      0.80       600\n",
            "\n",
            "Desempenho do SVM:\n",
            "              precision    recall  f1-score   support\n",
            "\n",
            "         neg       0.82      0.80      0.81       302\n",
            "         pos       0.81      0.82      0.81       298\n",
            "\n",
            "    accuracy                           0.81       600\n",
            "   macro avg       0.81      0.81      0.81       600\n",
            "weighted avg       0.81      0.81      0.81       600\n",
            "\n"
          ]
        }
      ]
    }
  ]
}